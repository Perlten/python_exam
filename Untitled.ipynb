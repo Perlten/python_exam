{
 "cells": [
  {
   "cell_type": "code",
   "execution_count": 1,
   "metadata": {},
   "outputs": [
    {
     "name": "stdout",
     "output_type": "stream",
     "text": [
      "Avocado\n",
      "(16.0, 'Avocado øko.', 'https://www.nemlig.com/avocado-oeko-5032447')\n",
      "(23.0, 'Avocado formodnet', 'https://www.nemlig.com/avocado-formodnet-5004143')\n",
      "(25.0, 'Avocado formodnet øko.', 'https://www.nemlig.com/avocado-formodnet-oeko-5020261')\n",
      "(38.0, 'Avocado i net øko.', 'https://www.nemlig.com/avocado-i-net-oeko-5016101')\n"
     ]
    },
    {
     "data": {
      "text/plain": [
       "[(16.0, 'Avocado øko.', 'https://www.nemlig.com/avocado-oeko-5032447'),\n",
       " (23.0,\n",
       "  'Avocado formodnet',\n",
       "  'https://www.nemlig.com/avocado-formodnet-5004143'),\n",
       " (25.0,\n",
       "  'Avocado formodnet øko.',\n",
       "  'https://www.nemlig.com/avocado-formodnet-oeko-5020261'),\n",
       " (38.0,\n",
       "  'Avocado i net øko.',\n",
       "  'https://www.nemlig.com/avocado-i-net-oeko-5016101')]"
      ]
     },
     "execution_count": 1,
     "metadata": {},
     "output_type": "execute_result"
    }
   ],
   "source": [
    "from discount_scraper import get_prices\n",
    "get_prices(\"avocado\")"
   ]
  },
  {
   "cell_type": "code",
   "execution_count": 6,
   "metadata": {},
   "outputs": [
    {
     "ename": "ModuleNotFoundError",
     "evalue": "No module named 'corporateFruit.py'; 'corporateFruit' is not a package",
     "output_type": "error",
     "traceback": [
      "\u001b[0;31m---------------------------------------------------------------------------\u001b[0m",
      "\u001b[0;31mModuleNotFoundError\u001b[0m                       Traceback (most recent call last)",
      "\u001b[0;32m<ipython-input-6-c59197ba0340>\u001b[0m in \u001b[0;36m<module>\u001b[0;34m\u001b[0m\n\u001b[0;32m----> 1\u001b[0;31m \u001b[0;32mimport\u001b[0m \u001b[0mcorporateFruit\u001b[0m\u001b[0;34m.\u001b[0m\u001b[0mpy\u001b[0m\u001b[0;34m\u001b[0m\u001b[0;34m\u001b[0m\u001b[0m\n\u001b[0m\u001b[1;32m      2\u001b[0m \u001b[0mcorporateFruit\u001b[0m\u001b[0;34m\u001b[0m\u001b[0;34m\u001b[0m\u001b[0m\n",
      "\u001b[0;31mModuleNotFoundError\u001b[0m: No module named 'corporateFruit.py'; 'corporateFruit' is not a package"
     ]
    }
   ],
   "source": [
    "import corporateFruit.py\n",
    "corporateFruit"
   ]
  }
 ],
 "metadata": {
  "kernelspec": {
   "display_name": "Python 3",
   "language": "python",
   "name": "python3"
  },
  "language_info": {
   "codemirror_mode": {
    "name": "ipython",
    "version": 3
   },
   "file_extension": ".py",
   "mimetype": "text/x-python",
   "name": "python",
   "nbconvert_exporter": "python",
   "pygments_lexer": "ipython3",
   "version": "3.7.2"
  }
 },
 "nbformat": 4,
 "nbformat_minor": 2
}
